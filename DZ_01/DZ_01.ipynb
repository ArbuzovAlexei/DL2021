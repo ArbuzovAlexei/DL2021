{
 "cells": [
  {
   "cell_type": "code",
   "execution_count": 1,
   "metadata": {},
   "outputs": [],
   "source": [
    "from PIL import Image #Библиотека работы с изображениями\n",
    "import numpy as np\n",
    "import tensorflow as tf"
   ]
  },
  {
   "cell_type": "code",
   "execution_count": 2,
   "metadata": {},
   "outputs": [],
   "source": [
    "import os\n",
    "images = []\n",
    "for file in os.listdir(\"Images_02/Target/\") : \n",
    "    images.append(np.array(Image.open(\"Images_02/Target/\" + file).getdata()).reshape(36, 36, 3))"
   ]
  },
  {
   "cell_type": "code",
   "execution_count": 3,
   "metadata": {},
   "outputs": [
    {
     "data": {
      "text/plain": [
       "(1083, 36, 36, 3)"
      ]
     },
     "execution_count": 3,
     "metadata": {},
     "output_type": "execute_result"
    }
   ],
   "source": [
    "np.array(images).shape"
   ]
  },
  {
   "cell_type": "code",
   "execution_count": 4,
   "metadata": {},
   "outputs": [],
   "source": [
    "import os\n",
    "images_nt = []\n",
    "for file in os.listdir(\"Images_02/Notarget/\") : \n",
    "    images_nt.append(np.array(Image.open(\"Images_02/Notarget/\" + file).getdata()).reshape(36, 36, 3))"
   ]
  },
  {
   "cell_type": "code",
   "execution_count": 5,
   "metadata": {},
   "outputs": [
    {
     "data": {
      "text/plain": [
       "(1146, 36, 36, 3)"
      ]
     },
     "execution_count": 5,
     "metadata": {},
     "output_type": "execute_result"
    }
   ],
   "source": [
    "np.array(images_nt).shape"
   ]
  },
  {
   "cell_type": "code",
   "execution_count": 7,
   "metadata": {},
   "outputs": [],
   "source": [
    "data = {\"data\" : []}\n",
    "for image in images :\n",
    "    tmp = {}\n",
    "    tmp[\"image\"] = image.tolist()\n",
    "    tmp[\"target\"] = 1\n",
    "\n",
    "    data[\"data\"].append(tmp)\n",
    "    \n",
    "for image in images_nt : \n",
    "    tmp = {}\n",
    "    tmp[\"image\"] = image.tolist()\n",
    "    tmp[\"target\"] = 0\n",
    "    \n",
    "    data[\"data\"].append(tmp)"
   ]
  },
  {
   "cell_type": "code",
   "execution_count": 8,
   "metadata": {},
   "outputs": [],
   "source": [
    "import json\n",
    "with open(\"data_02.json\", \"w\") as file : \n",
    "    json.dump(data, file, ensure_ascii = False)"
   ]
  },
  {
   "cell_type": "code",
   "execution_count": null,
   "metadata": {},
   "outputs": [],
   "source": []
  }
 ],
 "metadata": {
  "kernelspec": {
   "display_name": "Python 3",
   "language": "python",
   "name": "python3"
  },
  "language_info": {
   "codemirror_mode": {
    "name": "ipython",
    "version": 3
   },
   "file_extension": ".py",
   "mimetype": "text/x-python",
   "name": "python",
   "nbconvert_exporter": "python",
   "pygments_lexer": "ipython3",
   "version": "3.8.5"
  }
 },
 "nbformat": 4,
 "nbformat_minor": 4
}
