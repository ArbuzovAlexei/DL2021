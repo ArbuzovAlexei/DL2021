{
 "cells": [
  {
   "cell_type": "code",
   "execution_count": 1,
   "metadata": {},
   "outputs": [],
   "source": [
    "import tensorflow as tf\n",
    "from tensorflow import keras\n",
    "from tensorflow.keras import layers\n",
    "from tensorflow.python.keras.datasets import cifar10"
   ]
  },
  {
   "cell_type": "code",
   "execution_count": 2,
   "metadata": {},
   "outputs": [
    {
     "name": "stdout",
     "output_type": "stream",
     "text": [
      "(50000, 32, 32, 3) (50000, 1)\n",
      "(10000, 32, 32, 3) (10000, 1)\n"
     ]
    }
   ],
   "source": [
    "(xTrain, yTrain), (xTest, yTest) = cifar10.load_data()\n",
    "print(xTrain.shape, yTrain.shape)\n",
    "print(xTest.shape, yTest.shape)"
   ]
  },
  {
   "cell_type": "code",
   "execution_count": 3,
   "metadata": {},
   "outputs": [],
   "source": [
    "model = keras.Sequential(\n",
    "    [\n",
    "        layers.InputLayer(input_shape=(32, 32, 3)),\n",
    "        layers.Conv2D(32, 3, activation='relu'),\n",
    "        layers.MaxPooling2D(pool_size=(2, 2)),\n",
    "        layers.Conv2D(64, 3, activation='relu'),\n",
    "        layers.MaxPooling2D(pool_size=(2, 2)),\n",
    "        layers.Conv2D(128, 3, activation='relu'),\n",
    "        layers.MaxPooling2D(pool_size=(2, 2)),\n",
    "        layers.Flatten(),\n",
    "        layers.Dense(512, activation='relu'),\n",
    "        layers.Dense(10)\n",
    "    ]\n",
    ")\n",
    "\n",
    "epochsNum = 5\n",
    "optimizer = keras.optimizers.Adam()\n",
    "lossFn = keras.losses.SparseCategoricalCrossentropy(from_logits=True)\n",
    "metricAcc = keras.metrics.SparseCategoricalAccuracy()\n",
    "\n",
    "trainWriter = tf.summary.create_file_writer('log/train/')\n",
    "testWriter = tf.summary.create_file_writer('log/test/')\n",
    "trainStep = testStep = 0\n",
    "batchSize = 100"
   ]
  },
  {
   "cell_type": "markdown",
   "metadata": {},
   "source": [
    "Прежде всего необходимо переписать цикл обучения со встроенного на расширенный"
   ]
  },
  {
   "cell_type": "code",
   "execution_count": 4,
   "metadata": {},
   "outputs": [
    {
     "name": "stdout",
     "output_type": "stream",
     "text": [
      "Epoch № 0 ------------------------------------\n",
      "Train Accuracy:  tf.Tensor(0.40764, shape=(), dtype=float32)\n",
      "Test Accuracy:  tf.Tensor(0.5202, shape=(), dtype=float32) \n",
      "\n",
      "Epoch № 1 ------------------------------------\n",
      "Train Accuracy:  tf.Tensor(0.54452, shape=(), dtype=float32)\n",
      "Test Accuracy:  tf.Tensor(0.5865, shape=(), dtype=float32) \n",
      "\n",
      "Epoch № 2 ------------------------------------\n",
      "Train Accuracy:  tf.Tensor(0.6, shape=(), dtype=float32)\n",
      "Test Accuracy:  tf.Tensor(0.6179, shape=(), dtype=float32) \n",
      "\n",
      "Epoch № 3 ------------------------------------\n",
      "Train Accuracy:  tf.Tensor(0.64344, shape=(), dtype=float32)\n",
      "Test Accuracy:  tf.Tensor(0.6754, shape=(), dtype=float32) \n",
      "\n",
      "Epoch № 4 ------------------------------------\n",
      "Train Accuracy:  tf.Tensor(0.67354, shape=(), dtype=float32)\n",
      "Test Accuracy:  tf.Tensor(0.6866, shape=(), dtype=float32) \n",
      "\n"
     ]
    }
   ],
   "source": [
    "for epoch in range(epochsNum):\n",
    "    print(f'Epoch № {epoch} ------------------------------------')\n",
    "    \n",
    "    # Training loop (Обучающий прогон)\n",
    "    for i in range(len(xTrain) // batchSize):\n",
    "        xBatch = xTrain[i * batchSize : (i + 1) * batchSize]\n",
    "        yBatch = yTrain[i * batchSize : (i + 1) * batchSize]\n",
    "        with tf.GradientTape() as tape:\n",
    "            yPred = model(xBatch, training=True)\n",
    "            loss = lossFn(yBatch, yPred)\n",
    "            \n",
    "        gradients = tape.gradient(loss, model.trainable_weights)\n",
    "        optimizer.apply_gradients(zip(gradients, model.trainable_weights))\n",
    "        metricAcc.update_state(yBatch, yPred)\n",
    "    \n",
    "    with trainWriter.as_default():\n",
    "        tf.summary.scalar(\"Loss\", loss, step=epoch)\n",
    "        tf.summary.scalar('Accuracy', metricAcc.result(), step=epoch)\n",
    "    \n",
    "    print('Train Accuracy: ', metricAcc.result())\n",
    "    metricAcc.reset_states()\n",
    "    \n",
    "    # Test loop (Тестовый прогон)\n",
    "    for i in range(len(xTest) // batchSize):\n",
    "        xBatch = xTrain[i * batchSize : (i + 1) * batchSize]\n",
    "        yBatch = yTrain[i * batchSize : (i + 1) * batchSize]\n",
    "        yPred = model(xBatch, training=False)\n",
    "        metricAcc.update_state(yBatch, yPred)\n",
    "\n",
    "    with testWriter.as_default():\n",
    "        tf.summary.scalar(\"Loss\", loss, step=epoch)\n",
    "        tf.summary.scalar('Accuracy', metricAcc.result(), step=epoch)\n",
    "\n",
    "            \n",
    "    print('Test Accuracy: ', metricAcc.result(), '\\n')\n",
    "    metricAcc.reset_states()"
   ]
  },
  {
   "cell_type": "markdown",
   "metadata": {},
   "source": [
    "<h4>Сохранение и загрузка весов</h4>"
   ]
  },
  {
   "cell_type": "code",
   "execution_count": 5,
   "metadata": {},
   "outputs": [],
   "source": [
    "model.save_weights('modelFolder/') #Сохраняются только веса модели и нам необходимо помнить всю архитектуру модели"
   ]
  },
  {
   "cell_type": "code",
   "execution_count": 7,
   "metadata": {},
   "outputs": [
    {
     "name": "stdout",
     "output_type": "stream",
     "text": [
      "79/79 - 2s - loss: 1.1043 - accuracy: 0.6285\n"
     ]
    },
    {
     "data": {
      "text/plain": [
       "[1.1042855978012085, 0.6284999847412109]"
      ]
     },
     "execution_count": 7,
     "metadata": {},
     "output_type": "execute_result"
    }
   ],
   "source": [
    "model.load_weights('modelFolder/')\n",
    "model.compile(\n",
    "    loss = keras.losses.SparseCategoricalCrossentropy(from_logits = True),\n",
    "    optimizer = keras.optimizers.Adam(learning_rate = 0.001),\n",
    "    metrics = ['accuracy']\n",
    ")\n",
    "model.evaluate(xTest, yTest, batch_size=128, verbose=2)"
   ]
  },
  {
   "cell_type": "markdown",
   "metadata": {},
   "source": [
    "<h4>Сохранение и загрузка модели целиком</h4>"
   ]
  },
  {
   "cell_type": "code",
   "execution_count": 8,
   "metadata": {},
   "outputs": [
    {
     "name": "stdout",
     "output_type": "stream",
     "text": [
      "INFO:tensorflow:Assets written to: fullModelFolder/assets\n"
     ]
    }
   ],
   "source": [
    "model.save('fullModelFolder/') #Все сохраняется целиком"
   ]
  },
  {
   "cell_type": "code",
   "execution_count": 9,
   "metadata": {},
   "outputs": [
    {
     "name": "stdout",
     "output_type": "stream",
     "text": [
      "79/79 - 2s - loss: 1.1043 - accuracy: 0.6285\n"
     ]
    },
    {
     "data": {
      "text/plain": [
       "[1.1042855978012085, 0.6284999847412109]"
      ]
     },
     "execution_count": 9,
     "metadata": {},
     "output_type": "execute_result"
    }
   ],
   "source": [
    "model2 = keras.models.load_model('fullModelFolder/')\n",
    "model2.evaluate(xTest, yTest, batch_size=128, verbose=2)"
   ]
  }
 ],
 "metadata": {
  "kernelspec": {
   "display_name": "Python 3",
   "language": "python",
   "name": "python3"
  },
  "language_info": {
   "codemirror_mode": {
    "name": "ipython",
    "version": 3
   },
   "file_extension": ".py",
   "mimetype": "text/x-python",
   "name": "python",
   "nbconvert_exporter": "python",
   "pygments_lexer": "ipython3",
   "version": "3.8.5"
  }
 },
 "nbformat": 4,
 "nbformat_minor": 4
}
