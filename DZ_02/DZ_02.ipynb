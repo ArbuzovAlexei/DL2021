{
 "cells": [
  {
   "cell_type": "code",
   "execution_count": 11,
   "metadata": {},
   "outputs": [],
   "source": [
    "import tensorflow as tf\n",
    "from tensorflow import keras\n",
    "from tensorflow.keras import layers\n",
    "import pandas as pd\n",
    "import numpy as np\n",
    "import seaborn as sns\n",
    "import json"
   ]
  },
  {
   "cell_type": "code",
   "execution_count": 3,
   "metadata": {},
   "outputs": [
    {
     "data": {
      "text/html": [
       "<div>\n",
       "<style scoped>\n",
       "    .dataframe tbody tr th:only-of-type {\n",
       "        vertical-align: middle;\n",
       "    }\n",
       "\n",
       "    .dataframe tbody tr th {\n",
       "        vertical-align: top;\n",
       "    }\n",
       "\n",
       "    .dataframe thead th {\n",
       "        text-align: right;\n",
       "    }\n",
       "</style>\n",
       "<table border=\"1\" class=\"dataframe\">\n",
       "  <thead>\n",
       "    <tr style=\"text-align: right;\">\n",
       "      <th></th>\n",
       "      <th>image</th>\n",
       "      <th>target</th>\n",
       "    </tr>\n",
       "  </thead>\n",
       "  <tbody>\n",
       "    <tr>\n",
       "      <th>0</th>\n",
       "      <td>[[[173, 172, 177], [173, 172, 177], [173, 172,...</td>\n",
       "      <td>1</td>\n",
       "    </tr>\n",
       "    <tr>\n",
       "      <th>1</th>\n",
       "      <td>[[[176, 175, 180], [176, 175, 180], [176, 175,...</td>\n",
       "      <td>1</td>\n",
       "    </tr>\n",
       "    <tr>\n",
       "      <th>2</th>\n",
       "      <td>[[[177, 176, 181], [177, 176, 181], [177, 176,...</td>\n",
       "      <td>1</td>\n",
       "    </tr>\n",
       "    <tr>\n",
       "      <th>3</th>\n",
       "      <td>[[[194, 196, 200], [194, 196, 200], [194, 196,...</td>\n",
       "      <td>1</td>\n",
       "    </tr>\n",
       "    <tr>\n",
       "      <th>4</th>\n",
       "      <td>[[[195, 199, 204], [195, 199, 204], [195, 199,...</td>\n",
       "      <td>1</td>\n",
       "    </tr>\n",
       "  </tbody>\n",
       "</table>\n",
       "</div>"
      ],
      "text/plain": [
       "                                               image  target\n",
       "0  [[[173, 172, 177], [173, 172, 177], [173, 172,...       1\n",
       "1  [[[176, 175, 180], [176, 175, 180], [176, 175,...       1\n",
       "2  [[[177, 176, 181], [177, 176, 181], [177, 176,...       1\n",
       "3  [[[194, 196, 200], [194, 196, 200], [194, 196,...       1\n",
       "4  [[[195, 199, 204], [195, 199, 204], [195, 199,...       1"
      ]
     },
     "execution_count": 3,
     "metadata": {},
     "output_type": "execute_result"
    }
   ],
   "source": [
    "with open('data_02.json', 'r') as file: \n",
    "    data = json.loads(file.read())\n",
    "\n",
    "df = pd.json_normalize(data['data'])\n",
    "df.head()"
   ]
  },
  {
   "cell_type": "code",
   "execution_count": 5,
   "metadata": {},
   "outputs": [
    {
     "data": {
      "text/html": [
       "<div>\n",
       "<style scoped>\n",
       "    .dataframe tbody tr th:only-of-type {\n",
       "        vertical-align: middle;\n",
       "    }\n",
       "\n",
       "    .dataframe tbody tr th {\n",
       "        vertical-align: top;\n",
       "    }\n",
       "\n",
       "    .dataframe thead th {\n",
       "        text-align: right;\n",
       "    }\n",
       "</style>\n",
       "<table border=\"1\" class=\"dataframe\">\n",
       "  <thead>\n",
       "    <tr style=\"text-align: right;\">\n",
       "      <th></th>\n",
       "      <th>image</th>\n",
       "      <th>target</th>\n",
       "    </tr>\n",
       "  </thead>\n",
       "  <tbody>\n",
       "    <tr>\n",
       "      <th>0</th>\n",
       "      <td>[[[149, 133, 22], [149, 133, 22], [151, 135, 2...</td>\n",
       "      <td>0</td>\n",
       "    </tr>\n",
       "    <tr>\n",
       "      <th>1</th>\n",
       "      <td>[[[194, 194, 194], [196, 196, 196], [196, 196,...</td>\n",
       "      <td>0</td>\n",
       "    </tr>\n",
       "    <tr>\n",
       "      <th>2</th>\n",
       "      <td>[[[144, 134, 8], [149, 139, 13], [150, 140, 16...</td>\n",
       "      <td>0</td>\n",
       "    </tr>\n",
       "    <tr>\n",
       "      <th>3</th>\n",
       "      <td>[[[125, 120, 65], [108, 101, 47], [103, 96, 42...</td>\n",
       "      <td>0</td>\n",
       "    </tr>\n",
       "    <tr>\n",
       "      <th>4</th>\n",
       "      <td>[[[178, 186, 204], [178, 186, 204], [178, 186,...</td>\n",
       "      <td>0</td>\n",
       "    </tr>\n",
       "  </tbody>\n",
       "</table>\n",
       "</div>"
      ],
      "text/plain": [
       "                                               image  target\n",
       "0  [[[149, 133, 22], [149, 133, 22], [151, 135, 2...       0\n",
       "1  [[[194, 194, 194], [196, 196, 196], [196, 196,...       0\n",
       "2  [[[144, 134, 8], [149, 139, 13], [150, 140, 16...       0\n",
       "3  [[[125, 120, 65], [108, 101, 47], [103, 96, 42...       0\n",
       "4  [[[178, 186, 204], [178, 186, 204], [178, 186,...       0"
      ]
     },
     "execution_count": 5,
     "metadata": {},
     "output_type": "execute_result"
    }
   ],
   "source": [
    "df = df.sample(frac = 1).reset_index(drop = True)\n",
    "df.head()"
   ]
  },
  {
   "cell_type": "code",
   "execution_count": 7,
   "metadata": {},
   "outputs": [
    {
     "data": {
      "text/plain": [
       "(2229, 2)"
      ]
     },
     "execution_count": 7,
     "metadata": {},
     "output_type": "execute_result"
    }
   ],
   "source": [
    "df.shape"
   ]
  },
  {
   "cell_type": "code",
   "execution_count": 19,
   "metadata": {},
   "outputs": [],
   "source": [
    "imagearray = []\n",
    "for tmp in df[\"image\"]:\n",
    "    imagearray.append(np.array(tmp))\n",
    "imagearray = np.array(imagearray)"
   ]
  },
  {
   "cell_type": "code",
   "execution_count": 20,
   "metadata": {},
   "outputs": [
    {
     "name": "stdout",
     "output_type": "stream",
     "text": [
      "(1500, 36, 36, 3) (1500,)\n",
      "(729, 36, 36, 3) (729,)\n"
     ]
    }
   ],
   "source": [
    "xTrain = imagearray[:1500]\n",
    "yTrain = df[\"target\"][:1500] \n",
    "xTest = imagearray[1500:] \n",
    "yTest = df[\"target\"][1500:]\n",
    "\n",
    "print(xTrain.shape, yTrain.shape)\n",
    "print(xTest.shape, yTest.shape)"
   ]
  },
  {
   "cell_type": "code",
   "execution_count": 21,
   "metadata": {},
   "outputs": [],
   "source": [
    "xTrain = xTrain.astype('float32') / 255\n",
    "xTest = xTest.astype('float32') / 255"
   ]
  },
  {
   "cell_type": "markdown",
   "metadata": {},
   "source": [
    "Создадим нейросеть со следующей архитектурой:\n",
    "<ul>\n",
    "    <li>Входной слой: 32 x 32 x 3</li>\n",
    "    <li>Свёрточный слой 1 (Convolution)</li>\n",
    "    <li>Свёрточный слой 2</li>\n",
    "    <li>Свёрточный слой 3</li>\n",
    "    <li>Полносвязный слой: 10</li>\n",
    "</ul>"
   ]
  },
  {
   "cell_type": "code",
   "execution_count": 22,
   "metadata": {},
   "outputs": [],
   "source": [
    "model = keras.Sequential(\n",
    "    [\n",
    "        layers.InputLayer(input_shape=(36, 36, 3)),\n",
    "        layers.Conv2D(32, 3, activation='relu'),\n",
    "        layers.MaxPooling2D(pool_size=(2, 2)), #Собирает свертку в один двумерный слой\n",
    "        layers.Conv2D(64, 3, activation='relu'),\n",
    "        layers.MaxPooling2D(pool_size=(2, 2)),\n",
    "        layers.Conv2D(128, 3, activation='relu'),\n",
    "        layers.MaxPooling2D(pool_size=(2, 2)),\n",
    "        layers.Flatten(), #Выпрямитель слоя\n",
    "        layers.Dense(512, activation='relu'), #Полносвязный слой\n",
    "        layers.Dropout(0.5), #Регуляризация слоя\n",
    "        layers.Dense(10)\n",
    "    ]\n",
    ")\n",
    "#Pooling - операция дискретизации"
   ]
  },
  {
   "cell_type": "code",
   "execution_count": 23,
   "metadata": {},
   "outputs": [],
   "source": [
    "model.compile(\n",
    "    loss = keras.losses.SparseCategoricalCrossentropy(from_logits = True),\n",
    "    optimizer = keras.optimizers.Adam(learning_rate = 0.001),\n",
    "    metrics = ['accuracy']\n",
    ")"
   ]
  },
  {
   "cell_type": "code",
   "execution_count": 24,
   "metadata": {},
   "outputs": [
    {
     "name": "stdout",
     "output_type": "stream",
     "text": [
      "Epoch 1/10\n",
      "12/12 [==============================] - 2s 85ms/step - loss: 1.5489 - accuracy: 0.3866\n",
      "Epoch 2/10\n",
      "12/12 [==============================] - 1s 89ms/step - loss: 0.7591 - accuracy: 0.5876\n",
      "Epoch 3/10\n",
      "12/12 [==============================] - 1s 90ms/step - loss: 0.3179 - accuracy: 0.9233\n",
      "Epoch 4/10\n",
      "12/12 [==============================] - 1s 90ms/step - loss: 0.1446 - accuracy: 0.9514\n",
      "Epoch 5/10\n",
      "12/12 [==============================] - 1s 93ms/step - loss: 0.0701 - accuracy: 0.9714\n",
      "Epoch 6/10\n",
      "12/12 [==============================] - 1s 94ms/step - loss: 0.0695 - accuracy: 0.9756\n",
      "Epoch 7/10\n",
      "12/12 [==============================] - 1s 91ms/step - loss: 0.0389 - accuracy: 0.9881\n",
      "Epoch 8/10\n",
      "12/12 [==============================] - 1s 91ms/step - loss: 0.0212 - accuracy: 0.9946\n",
      "Epoch 9/10\n",
      "12/12 [==============================] - 1s 92ms/step - loss: 0.0163 - accuracy: 0.9967\n",
      "Epoch 10/10\n",
      "12/12 [==============================] - 1s 94ms/step - loss: 0.0092 - accuracy: 0.9983\n",
      "6/6 - 0s - loss: 0.0049 - accuracy: 0.9986\n"
     ]
    },
    {
     "data": {
      "text/plain": [
       "[0.004889198113232851, 0.9986282587051392]"
      ]
     },
     "execution_count": 24,
     "metadata": {},
     "output_type": "execute_result"
    }
   ],
   "source": [
    "history = model.fit(xTrain, yTrain, batch_size=128, epochs=10, verbose=1)\n",
    "model.evaluate(xTest, yTest, batch_size=128, verbose=2)"
   ]
  },
  {
   "cell_type": "code",
   "execution_count": 25,
   "metadata": {},
   "outputs": [
    {
     "data": {
      "text/plain": [
       "<AxesSubplot:xlabel='Epoch', ylabel='Accuracy'>"
      ]
     },
     "execution_count": 25,
     "metadata": {},
     "output_type": "execute_result"
    },
    {
     "data": {
      "image/png": "[encoded data removed]",
      "text/plain": [
       "<Figure size 432x288 with 1 Axes>"
      ]
     },
     "metadata": {
      "needs_background": "light"
     },
     "output_type": "display_data"
    }
   ],
   "source": [
    "historyData = {}\n",
    "historyData['Accuracy'] = history.history['accuracy']\n",
    "historyData['Epoch'] = list(range(1, history.params['epochs'] + 1))\n",
    "sns.lineplot(x=\"Epoch\", y=\"Accuracy\",\n",
    "             data=historyData)"
   ]
  },
  {
   "cell_type": "code",
   "execution_count": null,
   "metadata": {},
   "outputs": [],
   "source": []
  }
 ],
 "metadata": {
  "kernelspec": {
   "display_name": "Python 3",
   "language": "python",
   "name": "python3"
  },
  "language_info": {
   "codemirror_mode": {
    "name": "ipython",
    "version": 3
   },
   "file_extension": ".py",
   "mimetype": "text/x-python",
   "name": "python",
   "nbconvert_exporter": "python",
   "pygments_lexer": "ipython3",
   "version": "3.8.5"
  }
 },
 "nbformat": 4,
 "nbformat_minor": 4
}
