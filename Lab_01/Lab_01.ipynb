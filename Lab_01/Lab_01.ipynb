{
 "cells": [
  {
   "cell_type": "code",
   "execution_count": 7,
   "metadata": {},
   "outputs": [
    {
     "data": {
      "text/plain": [
       "'2.4.1'"
      ]
     },
     "execution_count": 7,
     "metadata": {},
     "output_type": "execute_result"
    }
   ],
   "source": [
    "#Версия TensorFlow\n",
    "import tensorflow as tf\n",
    "tf.__version__"
   ]
  },
  {
   "cell_type": "code",
   "execution_count": 8,
   "metadata": {},
   "outputs": [
    {
     "data": {
      "text/plain": [
       "sys.version_info(major=3, minor=8, micro=5, releaselevel='final', serial=0)"
      ]
     },
     "execution_count": 8,
     "metadata": {},
     "output_type": "execute_result"
    }
   ],
   "source": [
    "#Версия Python, результат - 3.8.5\n",
    "import sys\n",
    "sys.version_info"
   ]
  },
  {
   "cell_type": "markdown",
   "metadata": {},
   "source": [
    "Версия 1 (TensorFlow version 1.x)"
   ]
  },
  {
   "cell_type": "code",
   "execution_count": 4,
   "metadata": {},
   "outputs": [
    {
     "ename": "AttributeError",
     "evalue": "module 'tensorflow' has no attribute 'get_default_graph'",
     "output_type": "error",
     "traceback": [
      "\u001b[1;31m---------------------------------------------------------------------------\u001b[0m",
      "\u001b[1;31mAttributeError\u001b[0m                            Traceback (most recent call last)",
      "\u001b[1;32m<ipython-input-4-af2851e4e8b5>\u001b[0m in \u001b[0;36m<module>\u001b[1;34m\u001b[0m\n\u001b[0;32m      1\u001b[0m \u001b[1;32mimport\u001b[0m \u001b[0mtensorflow\u001b[0m \u001b[1;32mas\u001b[0m \u001b[0mtf\u001b[0m\u001b[1;33m\u001b[0m\u001b[1;33m\u001b[0m\u001b[0m\n\u001b[0;32m      2\u001b[0m \u001b[1;31m# сохраняем граф поумолчанию в переменную\u001b[0m\u001b[1;33m\u001b[0m\u001b[1;33m\u001b[0m\u001b[1;33m\u001b[0m\u001b[0m\n\u001b[1;32m----> 3\u001b[1;33m \u001b[0mdefault_graph\u001b[0m \u001b[1;33m=\u001b[0m \u001b[0mtf\u001b[0m\u001b[1;33m.\u001b[0m\u001b[0mget_default_graph\u001b[0m\u001b[1;33m(\u001b[0m\u001b[1;33m)\u001b[0m\u001b[1;33m\u001b[0m\u001b[1;33m\u001b[0m\u001b[0m\n\u001b[0m\u001b[0;32m      4\u001b[0m \u001b[1;33m\u001b[0m\u001b[0m\n\u001b[0;32m      5\u001b[0m \u001b[1;31m# объявляем константы в графе\u001b[0m\u001b[1;33m\u001b[0m\u001b[1;33m\u001b[0m\u001b[1;33m\u001b[0m\u001b[0m\n",
      "\u001b[1;31mAttributeError\u001b[0m: module 'tensorflow' has no attribute 'get_default_graph'"
     ]
    }
   ],
   "source": [
    "import tensorflow as tf\n",
    "# сохраняем граф поумолчанию в переменную\n",
    "default_graph = tf.get_default_graph()\n",
    "\n",
    "# объявляем константы в графе\n",
    "a = tf.constant(1.0)\n",
    "b = tf.constant(2.0)\n",
    "y = tf.add(a, b)\n",
    "\n",
    "# Для вычисления графа необходимо открыть сессию:\n",
    "with tf.Session() as session :\n",
    "    print (y.eval())\n",
    "\n",
    "second_graph = tf.Graph() # создаем второй граф\n",
    "with second_graph.as_default(): #создаем для второго графа константы\n",
    "    a2 = tf.constant(2)\n",
    "    b2 = tf.constant(3)\n",
    "    c2 = tf.multiply (a2, b2)\n",
    "    y2 = tf.pow(c2, 2)\n",
    "with tf.Session (graph = second_graph) as session : #Открываем и выполняем сессию для второго графа\n",
    "    print(y2.eval())\n"
   ]
  },
  {
   "cell_type": "code",
   "execution_count": 15,
   "metadata": {},
   "outputs": [],
   "source": [
    "# tf.constant - создает в графе вычислительный элемент\n",
    "# tf.add(x,y) - складывает две переменныеи создает новыет элемент с рузультатом сложения\n",
    "# with tf.Session() as session - Создает сессию в котором выполняется вычисления\n",
    "# y.eval() - Выполняет вычисления в соответствии с графом вычислений"
   ]
  },
  {
   "cell_type": "markdown",
   "metadata": {},
   "source": [
    "Версия 2 (Усечение нововведений TensorFlow 2.x)"
   ]
  },
  {
   "cell_type": "markdown",
   "metadata": {},
   "source": [
    "import tensorflow.compat.v1 as tf\n",
    "tf.disable_v2_behavior() - конфликт версий тензорфлоу 1 и 2. Методичка написана на 1 тензоре."
   ]
  },
  {
   "cell_type": "code",
   "execution_count": 3,
   "metadata": {},
   "outputs": [
    {
     "name": "stdout",
     "output_type": "stream",
     "text": [
      "WARNING:tensorflow:From C:\\Users\\Alexei Arbuzov\\anaconda3\\lib\\site-packages\\tensorflow\\python\\compat\\v2_compat.py:96: disable_resource_variables (from tensorflow.python.ops.variable_scope) is deprecated and will be removed in a future version.\n",
      "Instructions for updating:\n",
      "non-resource variables are not supported in the long term\n",
      "3.0\n",
      "36\n"
     ]
    }
   ],
   "source": [
    "import tensorflow.compat.v1 as tf\n",
    "tf.disable_v2_behavior()\n",
    "# сохраняем граф поумолчанию в переменную\n",
    "default_graph = tf.get_default_graph()\n",
    "\n",
    "# объявляем константы в графе\n",
    "a = tf.constant(1.0)\n",
    "b = tf.constant(2.0)\n",
    "y = tf.add(a, b)\n",
    "\n",
    "# Для вычисления графа необходимо открыть сессию:\n",
    "with tf.Session() as session :\n",
    "    print (y.eval())\n",
    "\n",
    "second_graph = tf.Graph() # создаем второй граф\n",
    "with second_graph.as_default(): #создаем для второго графа константы\n",
    "    a2 = tf.constant(2)\n",
    "    b2 = tf.constant(3)\n",
    "    c2 = tf.multiply (a2, b2)\n",
    "    y2 = tf.pow(c2, 2)\n",
    "with tf.Session (graph = second_graph) as session : #Открываем и выполняем сессию для второго графа\n",
    "    print(y2.eval())"
   ]
  },
  {
   "cell_type": "code",
   "execution_count": null,
   "metadata": {},
   "outputs": [],
   "source": [
    "Версия 3 (без использования сессий и графов в нотации TensorFlow 2.x)"
   ]
  },
  {
   "cell_type": "code",
   "execution_count": 2,
   "metadata": {},
   "outputs": [
    {
     "name": "stdout",
     "output_type": "stream",
     "text": [
      "3\n",
      "36\n"
     ]
    }
   ],
   "source": [
    "import tensorflow as tf\n",
    "#import tensorflow.compat.v1 as tf\n",
    "#tf.disable_v2_behavior()\n",
    "\n",
    "# объявляем константы в графе\n",
    "a = tf.constant(1.0)\n",
    "b = tf.constant(2.0)\n",
    "\n",
    "y = tf.add(a, b)\n",
    "\n",
    "tf.print(y)\n",
    "\n",
    "a2 = tf.constant(2)\n",
    "b2 = tf.constant(3)\n",
    "c2 = tf.multiply(a2, b2)\n",
    "y2 = tf.pow(c2 ,2)\n",
    "    \n",
    "tf.print(y2)"
   ]
  },
  {
   "cell_type": "code",
   "execution_count": 1,
   "metadata": {},
   "outputs": [
    {
     "name": "stdout",
     "output_type": "stream",
     "text": [
      "1.39561248\r\n"
     ]
    }
   ],
   "source": [
    "import tensorflow as tf\n",
    "import math\n",
    "\n",
    "a = tf.constant(math.e)\n",
    "b = tf.pow(a, 1/3)\n",
    "\n",
    "tf.print(b)"
   ]
  },
  {
   "cell_type": "code",
   "execution_count": 2,
   "metadata": {},
   "outputs": [
    {
     "data": {
      "text/plain": [
       "1.3956124250860895"
      ]
     },
     "execution_count": 2,
     "metadata": {},
     "output_type": "execute_result"
    }
   ],
   "source": [
    "math.e **(1/3)"
   ]
  },
  {
   "cell_type": "code",
   "execution_count": null,
   "metadata": {},
   "outputs": [],
   "source": []
  }
 ],
 "metadata": {
  "kernelspec": {
   "display_name": "Python 3",
   "language": "python",
   "name": "python3"
  },
  "language_info": {
   "codemirror_mode": {
    "name": "ipython",
    "version": 3
   },
   "file_extension": ".py",
   "mimetype": "text/x-python",
   "name": "python",
   "nbconvert_exporter": "python",
   "pygments_lexer": "ipython3",
   "version": "3.8.5"
  }
 },
 "nbformat": 4,
 "nbformat_minor": 4
}
