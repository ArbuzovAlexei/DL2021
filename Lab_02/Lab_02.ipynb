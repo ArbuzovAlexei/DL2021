{
 "cells": [
  {
   "cell_type": "code",
   "execution_count": 2,
   "metadata": {},
   "outputs": [],
   "source": [
    "import tensorflow as tf\n",
    "from tensorflow import keras\n",
    "from tensorflow.keras import layers\n",
    "from tensorflow.keras.datasets import mnist"
   ]
  },
  {
   "cell_type": "markdown",
   "metadata": {},
   "source": [
    "Загрузим датасет MNIST и рассмотрим его формат"
   ]
  },
  {
   "cell_type": "code",
   "execution_count": 2,
   "metadata": {},
   "outputs": [
    {
     "name": "stdout",
     "output_type": "stream",
     "text": [
      "(60000, 28, 28) (60000,)\n",
      "(10000, 28, 28) (10000,)\n"
     ]
    }
   ],
   "source": [
    "(xTrain, yTrain), (xTest, yTest) = mnist.load_data()\n",
    "\n",
    "print(xTrain.shape, yTrain.shape)\n",
    "print(xTest.shape, yTest.shape)"
   ]
  },
  {
   "cell_type": "markdown",
   "metadata": {},
   "source": [
    "Как видно, формат датасета (обучающей выборки) следующий: <br>\n",
    "<ul>\n",
    "    <li>60000 образцов изображений</li>\n",
    "    <li>28 пикселей в высоту</li>\n",
    "    <li>28 пикселей в ширину</li>\n",
    "</ul>\n",
    "То есть это трёхмерный массив данных. Такой формат не подходтит для обучения нейросетей, требуется изименить форму датасета на двухмерный массив. Число образцов оставим неизменным, а двумерный массив пикселей преобразуем в одномерный: "
   ]
  },
  {
   "cell_type": "code",
   "execution_count": 3,
   "metadata": {},
   "outputs": [
    {
     "name": "stdout",
     "output_type": "stream",
     "text": [
      "(60000, 784)\n",
      "(10000, 784)\n"
     ]
    }
   ],
   "source": [
    "xTrain = tf.reshape(xTrain, (60000, 28 * 28))\n",
    "print(xTrain.shape)\n",
    "xTest = tf.reshape(xTest, (10000, 28 * 28))\n",
    "print(xTest.shape)"
   ]
  },
  {
   "cell_type": "markdown",
   "metadata": {},
   "source": [
    "Рассмотрим формат одного элемента массива:"
   ]
  },
  {
   "cell_type": "code",
   "execution_count": 4,
   "metadata": {},
   "outputs": [
    {
     "name": "stdout",
     "output_type": "stream",
     "text": [
      "<dtype: 'uint8'>\n",
      "tf.Tensor(\n",
      "[  0   0   0  49 238 253 253 253 253 253 253 253 253 251  93  82  82  56\n",
      "  39   0   0   0   0   0   0   0   0   0   0   0   0  18 219 253 253 253\n",
      " 253 253 198 182 247 241   0   0   0   0   0   0   0   0], shape=(50,), dtype=uint8)\n"
     ]
    }
   ],
   "source": [
    "print(xTrain[0].dtype)\n",
    "print(xTrain[0][200:250])"
   ]
  },
  {
   "cell_type": "markdown",
   "metadata": {},
   "source": [
    "Формат элемента является 8 битным беззнаковым целым, диапазон значений которого лежит в промежутке от 0 до 255. Такой формат для обучения нейросестей не самый удачный. Произведём масштабирование и преобразуем диапазон от 0 до 1. При этом нужно учесть, что сначала нужно преобразовать тип данных в float32"
   ]
  },
  {
   "cell_type": "code",
   "execution_count": 5,
   "metadata": {},
   "outputs": [
    {
     "name": "stdout",
     "output_type": "stream",
     "text": [
      "<dtype: 'float32'>\n",
      "tf.Tensor(\n",
      "[0.         0.         0.         0.19215687 0.93333334 0.99215686\n",
      " 0.99215686 0.99215686 0.99215686 0.99215686 0.99215686 0.99215686\n",
      " 0.99215686 0.9843137  0.3647059  0.32156864 0.32156864 0.21960784\n",
      " 0.15294118 0.         0.         0.         0.         0.\n",
      " 0.         0.         0.         0.         0.         0.\n",
      " 0.         0.07058824 0.85882354 0.99215686 0.99215686 0.99215686\n",
      " 0.99215686 0.99215686 0.7764706  0.7137255  0.96862745 0.94509804\n",
      " 0.         0.         0.         0.         0.         0.\n",
      " 0.         0.        ], shape=(50,), dtype=float32)\n"
     ]
    }
   ],
   "source": [
    "xTrain = tf.cast(xTrain, dtype = tf.float32) / 255\n",
    "xTest = tf.cast(xTest, dtype = tf.float32) / 255\n",
    "print(xTrain[0].dtype)\n",
    "print(xTrain[0][200:250])\n"
   ]
  },
  {
   "cell_type": "markdown",
   "metadata": {},
   "source": [
    "Датасет преобразован и готов для обучения моделей <br>\n",
    "Начнём с обучения логистической регрессии"
   ]
  },
  {
   "cell_type": "code",
   "execution_count": 6,
   "metadata": {},
   "outputs": [
    {
     "name": "stdout",
     "output_type": "stream",
     "text": [
      "WARNING:tensorflow:\n",
      "The following Variables were used a Lambda layer's call (tf.linalg.matmul), but\n",
      "are not present in its tracked objects:\n",
      "  <tf.Variable 'Variable:0' shape=(784, 10) dtype=float32>\n",
      "It is possible that this is intended behavior, but it is more likely\n",
      "an omission. This is a strong indication that this layer should be\n",
      "formulated as a subclassed Layer rather than a Lambda layer.\n",
      "WARNING:tensorflow:\n",
      "The following Variables were used a Lambda layer's call (tf.__operators__.add), but\n",
      "are not present in its tracked objects:\n",
      "  <tf.Variable 'Variable:0' shape=(10,) dtype=float32>\n",
      "It is possible that this is intended behavior, but it is more likely\n",
      "an omission. This is a strong indication that this layer should be\n",
      "formulated as a subclassed Layer rather than a Lambda layer.\n"
     ]
    }
   ],
   "source": [
    "x = keras.Input((784), dtype = tf.float32)\n",
    "W = tf.Variable(tf.zeros((784, 10)))\n",
    "b = tf.Variable(tf.zeros((10)), dtype = tf.float32)\n",
    "y_true = tf.Variable((10), dtype = tf.float32)\n",
    "y_pred = tf.matmul(x, W) + b\n",
    "\n",
    "model = keras.Model(x, y_pred)"
   ]
  },
  {
   "cell_type": "code",
   "execution_count": 7,
   "metadata": {},
   "outputs": [],
   "source": [
    "model.compile(\n",
    "    loss = keras.losses.SparseCategoricalCrossentropy(from_logits = True),\n",
    "    optimizer = keras.optimizers.SGD(learning_rate = 0.5),\n",
    "    metrics = ['accuracy']\n",
    ")"
   ]
  },
  {
   "cell_type": "code",
   "execution_count": 8,
   "metadata": {},
   "outputs": [
    {
     "name": "stdout",
     "output_type": "stream",
     "text": [
      "Epoch 1/5\n",
      "1875/1875 - 1s - loss: 2.3026 - accuracy: 0.0987\n",
      "Epoch 2/5\n",
      "1875/1875 - 1s - loss: 2.3026 - accuracy: 0.0987\n",
      "Epoch 3/5\n",
      "1875/1875 - 1s - loss: 2.3026 - accuracy: 0.0987\n",
      "Epoch 4/5\n",
      "1875/1875 - 1s - loss: 2.3026 - accuracy: 0.0987\n",
      "Epoch 5/5\n",
      "1875/1875 - 1s - loss: 2.3026 - accuracy: 0.0987\n",
      "313/313 - 0s - loss: 2.3026 - accuracy: 0.0980\n"
     ]
    },
    {
     "data": {
      "text/plain": [
       "[2.30259108543396, 0.09799999743700027]"
      ]
     },
     "execution_count": 8,
     "metadata": {},
     "output_type": "execute_result"
    }
   ],
   "source": [
    "model.fit(xTrain, yTrain, batch_size=32, epochs=5, verbose=2)\n",
    "model.evaluate(xTest, yTest, batch_size=32, verbose=2)"
   ]
  },
  {
   "cell_type": "markdown",
   "metadata": {},
   "source": [
    "Точность получилась минимальной, так как данный тип распознавания не является задачей регрессии"
   ]
  },
  {
   "cell_type": "markdown",
   "metadata": {},
   "source": [
    "<h4>Вторая часть</h4>\n",
    "Теперь обучим нейронную сеть следующими параметрами:\n",
    "<ul>\n",
    "    <li>Входной слой:   784 нейрона</li>\n",
    "    <li>Скрытый слой 1: 200 нейронов</li>\n",
    "    <li>Скрытый слой 2: 100 нейронов</li>\n",
    "    <li>Скрытый слой 3: 60 нейронов</li>\n",
    "    <li>Скрытый слой 4: 30 нейронов</li>\n",
    "    <li>Выходной слой:  10 нейронов</li>\n",
    "</ul>    \n",
    "Сначала расмотрим упрощённый вариант на основе Sequential API (слои идут друг за другом)"
   ]
  },
  {
   "cell_type": "code",
   "execution_count": 3,
   "metadata": {},
   "outputs": [],
   "source": [
    "model = keras.Sequential(\n",
    "    [\n",
    "        layers.InputLayer(input_shape=(28*28)),\n",
    "        layers.Dense(200, activation='relu'),\n",
    "        layers.Dense(100, activation='relu'),\n",
    "        layers.Dense(60, activation='relu'),\n",
    "        layers.Dense(30, activation='relu'),\n",
    "        layers.Dense(10, activation='relu')\n",
    "    ]\n",
    ")\n",
    "\n",
    "#relu - линейный выпрямитель, rectified linear unit "
   ]
  },
  {
   "cell_type": "markdown",
   "metadata": {},
   "source": [
    " Установим модели функцию потерь и оптимизатор (способ минимизации функции потери)"
   ]
  },
  {
   "cell_type": "code",
   "execution_count": 10,
   "metadata": {},
   "outputs": [],
   "source": [
    "model.compile(\n",
    "    loss = keras.losses.SparseCategoricalCrossentropy(from_logits = True),\n",
    "    optimizer = keras.optimizers.SGD(learning_rate = 0.5),\n",
    "    metrics = ['accuracy']\n",
    ")\n",
    "\n",
    "#Функция потерь - Кроссэнтропия\n",
    "#SGD - уменьшает расстояние между полученным значением функции потерь и тем, \n",
    "#что должно быть, SGD - Stochastic Gradient Descent"
   ]
  },
  {
   "cell_type": "markdown",
   "metadata": {},
   "source": [
    "Обучим модель со следующими параметрами:<br>\n",
    "Размер батча (порция данных): 32 образца<br>\n",
    "Число эпох: 5"
   ]
  },
  {
   "cell_type": "code",
   "execution_count": 11,
   "metadata": {},
   "outputs": [
    {
     "name": "stdout",
     "output_type": "stream",
     "text": [
      "Epoch 1/5\n",
      "1875/1875 - 3s - loss: 1.1872 - accuracy: 0.6211\n",
      "Epoch 2/5\n",
      "1875/1875 - 3s - loss: 0.8181 - accuracy: 0.6801\n",
      "Epoch 3/5\n",
      "1875/1875 - 3s - loss: 0.7698 - accuracy: 0.6870\n",
      "Epoch 4/5\n",
      "1875/1875 - 2s - loss: 0.4322 - accuracy: 0.8390\n",
      "Epoch 5/5\n",
      "1875/1875 - 3s - loss: 0.1233 - accuracy: 0.9688\n",
      "313/313 - 0s - loss: 0.1420 - accuracy: 0.9647\n"
     ]
    },
    {
     "data": {
      "text/plain": [
       "[0.14200787246227264, 0.9646999835968018]"
      ]
     },
     "execution_count": 11,
     "metadata": {},
     "output_type": "execute_result"
    }
   ],
   "source": [
    "model.fit(xTrain, yTrain, batch_size=32, epochs=5, verbose=2)\n",
    "model.evaluate(xTest, yTest, batch_size=32, verbose=2)"
   ]
  },
  {
   "cell_type": "markdown",
   "metadata": {},
   "source": [
    "Теперь повторим тоже самое, но уже с применением Functional API \n",
    "<br>Считается более гибкой"
   ]
  },
  {
   "cell_type": "code",
   "execution_count": 12,
   "metadata": {},
   "outputs": [],
   "source": [
    "inpLayer = keras.Input(shape=(28*28))\n",
    "hidLayer1 = layers.Dense(200, activation='relu')(inpLayer)\n",
    "hidLayer2 = layers.Dense(100, activation='relu')(hidLayer1)\n",
    "hidLayer3 = layers.Dense(60, activation='relu')(hidLayer2)\n",
    "hidLayer4 = layers.Dense(30, activation='relu')(hidLayer3)\n",
    "outLayer = layers.Dense(10, activation='relu')(hidLayer4)\n",
    "\n",
    "model = keras.Model(inputs=inpLayer, outputs=outLayer)"
   ]
  },
  {
   "cell_type": "code",
   "execution_count": 13,
   "metadata": {},
   "outputs": [],
   "source": [
    "model.compile(\n",
    "    loss = keras.losses.SparseCategoricalCrossentropy(from_logits = True),\n",
    "    optimizer = keras.optimizers.SGD(learning_rate = 0.5),\n",
    "    metrics = ['accuracy']\n",
    ")"
   ]
  },
  {
   "cell_type": "code",
   "execution_count": 14,
   "metadata": {},
   "outputs": [
    {
     "name": "stdout",
     "output_type": "stream",
     "text": [
      "Epoch 1/5\n",
      "1875/1875 - 3s - loss: 1.0274 - accuracy: 0.6917\n",
      "Epoch 2/5\n",
      "1875/1875 - 3s - loss: 0.5885 - accuracy: 0.8673\n",
      "Epoch 3/5\n",
      "1875/1875 - 2s - loss: 0.4486 - accuracy: 0.9216\n",
      "Epoch 4/5\n",
      "1875/1875 - 3s - loss: 0.3398 - accuracy: 0.9669\n",
      "Epoch 5/5\n",
      "1875/1875 - 2s - loss: 0.3201 - accuracy: 0.9725\n",
      "313/313 - 0s - loss: 0.3248 - accuracy: 0.9707\n"
     ]
    },
    {
     "data": {
      "text/plain": [
       "[0.3247833549976349, 0.9707000255584717]"
      ]
     },
     "execution_count": 14,
     "metadata": {},
     "output_type": "execute_result"
    }
   ],
   "source": [
    "model.fit(xTrain, yTrain, batch_size=32, epochs=5, verbose=2)\n",
    "model.evaluate(xTest, yTest, batch_size=32, verbose=2)"
   ]
  },
  {
   "cell_type": "markdown",
   "metadata": {},
   "source": [
    "Точность составила 97%"
   ]
  }
 ],
 "metadata": {
  "kernelspec": {
   "display_name": "Python 3",
   "language": "python",
   "name": "python3"
  },
  "language_info": {
   "codemirror_mode": {
    "name": "ipython",
    "version": 3
   },
   "file_extension": ".py",
   "mimetype": "text/x-python",
   "name": "python",
   "nbconvert_exporter": "python",
   "pygments_lexer": "ipython3",
   "version": "3.8.5"
  }
 },
 "nbformat": 4,
 "nbformat_minor": 4
}
