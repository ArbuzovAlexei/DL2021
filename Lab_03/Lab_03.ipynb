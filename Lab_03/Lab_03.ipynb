{
 "cells": [
  {
   "cell_type": "code",
   "execution_count": 1,
   "metadata": {},
   "outputs": [],
   "source": [
    "import tensorflow as tf\n",
    "from tensorflow import keras\n",
    "from tensorflow.keras import layers\n",
    "from tensorflow.python.keras.datasets import cifar10\n",
    "\n",
    "import seaborn as sns"
   ]
  },
  {
   "cell_type": "markdown",
   "metadata": {},
   "source": [
    "Загрузка Cifar10 Dataset"
   ]
  },
  {
   "cell_type": "code",
   "execution_count": 2,
   "metadata": {},
   "outputs": [
    {
     "name": "stdout",
     "output_type": "stream",
     "text": [
      "Downloading data from https://www.cs.toronto.edu/~kriz/cifar-10-python.tar.gz\n",
      "170500096/170498071 [==============================] - 88s 1us/step\n",
      "(50000, 32, 32, 3) (50000, 1)\n",
      "(10000, 32, 32, 3) (10000, 1)\n"
     ]
    }
   ],
   "source": [
    "(xTrain, yTrain), (xTest, yTest) = cifar10.load_data()\n",
    "print(xTrain.shape, yTrain.shape)\n",
    "print(xTest.shape, yTest.shape)"
   ]
  },
  {
   "cell_type": "markdown",
   "metadata": {},
   "source": [
    "Датасет имеет следующий формат:<br>\n",
    "50000 образцов 32 на 32 пикселя, каждый пиксель зашифорван RGB кодом<br>\n",
    "Для применения его как обучающей выборки необходимо сначала отмасштабировать данные"
   ]
  },
  {
   "cell_type": "code",
   "execution_count": 3,
   "metadata": {},
   "outputs": [],
   "source": [
    "xTrain = xTrain.astype('float32') / 255\n",
    "xTest = xTest.astype('float32') / 255"
   ]
  },
  {
   "cell_type": "markdown",
   "metadata": {},
   "source": [
    "Создадим нейросеть со следующей архитектурой:\n",
    "<ul>\n",
    "    <li>Входной слой: 32 x 32 x 3</li>\n",
    "    <li>Свёрточный слой 1 (Convolution)</li>\n",
    "    <li>Свёрточный слой 2</li>\n",
    "    <li>Свёрточный слой 3</li>\n",
    "    <li>Полносвязный слой: 10</li>\n",
    "</ul>"
   ]
  },
  {
   "cell_type": "code",
   "execution_count": 4,
   "metadata": {},
   "outputs": [],
   "source": [
    "model = keras.Sequential(\n",
    "    [\n",
    "        layers.InputLayer(input_shape=(32, 32, 3)),\n",
    "        layers.Conv2D(32, 3, activation='relu'),\n",
    "        layers.MaxPooling2D(pool_size=(2, 2)), #Собирает свертку в один двумерный слой\n",
    "        layers.Conv2D(64, 3, activation='relu'),\n",
    "        layers.MaxPooling2D(pool_size=(2, 2)),\n",
    "        layers.Conv2D(128, 3, activation='relu'),\n",
    "        layers.MaxPooling2D(pool_size=(2, 2)),\n",
    "        layers.Flatten(), #Выпрямитель слоя\n",
    "        layers.Dense(512, activation='relu'), #Полносвязный слой\n",
    "        layers.Dropout(0.5), #Регуляризация слоя\n",
    "        layers.Dense(10)\n",
    "    ]\n",
    ")\n",
    "#Pooling - операция дискретитизации"
   ]
  },
  {
   "cell_type": "code",
   "execution_count": 5,
   "metadata": {},
   "outputs": [],
   "source": [
    "model.compile(\n",
    "    loss = keras.losses.SparseCategoricalCrossentropy(from_logits = True),\n",
    "    optimizer = keras.optimizers.Adam(learning_rate = 0.001),\n",
    "    metrics = ['accuracy']\n",
    ")"
   ]
  },
  {
   "cell_type": "code",
   "execution_count": 6,
   "metadata": {},
   "outputs": [
    {
     "name": "stdout",
     "output_type": "stream",
     "text": [
      "Epoch 1/10\n",
      "391/391 [==============================] - 28s 69ms/step - loss: 1.9170 - accuracy: 0.2791\n",
      "Epoch 2/10\n",
      "391/391 [==============================] - 27s 70ms/step - loss: 1.3105 - accuracy: 0.5274\n",
      "Epoch 3/10\n",
      "391/391 [==============================] - 27s 70ms/step - loss: 1.1508 - accuracy: 0.5882\n",
      "Epoch 4/10\n",
      "391/391 [==============================] - 27s 70ms/step - loss: 1.0046 - accuracy: 0.6485\n",
      "Epoch 5/10\n",
      "391/391 [==============================] - 27s 69ms/step - loss: 0.9149 - accuracy: 0.6785\n",
      "Epoch 6/10\n",
      "391/391 [==============================] - 27s 69ms/step - loss: 0.8426 - accuracy: 0.7057\n",
      "Epoch 7/10\n",
      "391/391 [==============================] - 27s 69ms/step - loss: 0.7776 - accuracy: 0.7284\n",
      "Epoch 8/10\n",
      "391/391 [==============================] - 27s 70ms/step - loss: 0.7239 - accuracy: 0.7438\n",
      "Epoch 9/10\n",
      "391/391 [==============================] - 27s 70ms/step - loss: 0.6856 - accuracy: 0.7616\n",
      "Epoch 10/10\n",
      "391/391 [==============================] - 27s 70ms/step - loss: 0.6572 - accuracy: 0.7695\n",
      "79/79 - 2s - loss: 0.8230 - accuracy: 0.7164\n"
     ]
    },
    {
     "data": {
      "text/plain": [
       "[0.8230314254760742, 0.7164000272750854]"
      ]
     },
     "execution_count": 6,
     "metadata": {},
     "output_type": "execute_result"
    }
   ],
   "source": [
    "history = model.fit(xTrain, yTrain, batch_size=128, epochs=10, verbose=1)\n",
    "model.evaluate(xTest, yTest, batch_size=128, verbose=2)"
   ]
  },
  {
   "cell_type": "code",
   "execution_count": 7,
   "metadata": {},
   "outputs": [
    {
     "data": {
      "text/plain": [
       "<AxesSubplot:xlabel='Epoch', ylabel='Accuracy'>"
      ]
     },
     "execution_count": 7,
     "metadata": {},
     "output_type": "execute_result"
    },
    {
     "data": {
      "image/png": "[encoded data removed]",
      "text/plain": [
       "<Figure size 432x288 with 1 Axes>"
      ]
     },
     "metadata": {
      "needs_background": "light"
     },
     "output_type": "display_data"
    }
   ],
   "source": [
    "historyData = {}\n",
    "historyData['Accuracy'] = history.history['accuracy']\n",
    "historyData['Epoch'] = list(range(1, history.params['epochs'] + 1))\n",
    "sns.lineplot(x=\"Epoch\", y=\"Accuracy\",\n",
    "             data=historyData)"
   ]
  },
  {
   "cell_type": "markdown",
   "metadata": {},
   "source": [
    "График роста точности в зависимости от эпохи"
   ]
  }
 ],
 "metadata": {
  "kernelspec": {
   "display_name": "Python 3",
   "language": "python",
   "name": "python3"
  },
  "language_info": {
   "codemirror_mode": {
    "name": "ipython",
    "version": 3
   },
   "file_extension": ".py",
   "mimetype": "text/x-python",
   "name": "python",
   "nbconvert_exporter": "python",
   "pygments_lexer": "ipython3",
   "version": "3.8.5"
  }
 },
 "nbformat": 4,
 "nbformat_minor": 5
}
